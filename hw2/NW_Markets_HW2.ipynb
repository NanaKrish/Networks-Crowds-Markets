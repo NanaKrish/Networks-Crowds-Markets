{
  "nbformat": 4,
  "nbformat_minor": 0,
  "metadata": {
    "colab": {
      "name": "NW&Markets_HW2.ipynb",
      "provenance": [],
      "collapsed_sections": [],
      "toc_visible": true
    },
    "kernelspec": {
      "name": "python3",
      "display_name": "Python 3"
    }
  },
  "cells": [
    {
      "cell_type": "code",
      "metadata": {
        "id": "JtJ7VyiThsyH",
        "colab_type": "code",
        "colab": {}
      },
      "source": [
        "import re\n",
        "import random\n",
        "import numpy as np\n",
        "import networkx as nx\n",
        "from networkx.algorithms import bipartite\n",
        "\n",
        "import matplotlib.pyplot as plt\n",
        "%matplotlib inline"
      ],
      "execution_count": 0,
      "outputs": []
    },
    {
      "cell_type": "markdown",
      "metadata": {
        "id": "76zmHX1ikYB9",
        "colab_type": "text"
      },
      "source": [
        "#8A\n",
        "Consider the contagion examples that we observed in chapter 5 of the notes. Given an undirected graph, a set of early adopters S, and a threshold q (such that a certain choice X will spread to a node if more than q fraction of its neighbors are playing it), produce an algorithm that permanently infects the set S of early adopters with X and then runs BRD on the remaining nodes to determine whether, and to what extent, the choice will cascade through the network. (Note: “BRD” in this case is simply the process of iteratively deciding whether there is a node that will switch its choice and performing this switch.)"
      ]
    },
    {
      "cell_type": "code",
      "metadata": {
        "id": "IfAOqxPpkcJd",
        "colab_type": "code",
        "colab": {}
      },
      "source": [
        "def contagion_brd(G, S, q):\n",
        "  if (S != -1):\n",
        "    G = create_graph(G, random.sample(range(0, 4038), S))\n",
        "  num_changed = 0\n",
        "  flag = True\n",
        "  prev = 0\n",
        "  while (flag):\n",
        "  \n",
        "    for item in G.items():\n",
        "      early_adopter_bool = item[1][0]\n",
        "\n",
        "      if (not early_adopter_bool):\n",
        "        neighbors = item[1][1]   \n",
        "        if (len(neighbors) == 0):\n",
        "          break\n",
        "\n",
        "        count = 0\n",
        "        for neighbor in neighbors:\n",
        "          neighbor_bool = G[neighbor][0]\n",
        "\n",
        "          if (neighbor_bool):\n",
        "            count = count + 1\n",
        "\n",
        "        fraction = count / len(neighbors)\n",
        "\n",
        "\n",
        "        if (fraction > q):\n",
        "          elem = item[0]\n",
        "\n",
        "          if (G[elem][0] == False):\n",
        "            num_changed = num_changed + 1\n",
        "          G[elem][0] = True\n",
        "          \n",
        "    #check if we have converged yet and update the flag\n",
        "    if (num_changed == prev):\n",
        "      flag = False\n",
        "    else:\n",
        "      prev = num_changed\n",
        "      \n",
        "  return num_changed, G"
      ],
      "execution_count": 0,
      "outputs": []
    },
    {
      "cell_type": "code",
      "metadata": {
        "id": "_WiQDRph4k1l",
        "colab_type": "code",
        "outputId": "557ade3a-36e6-41c0-dc36-3629132c2323",
        "colab": {
          "base_uri": "https://localhost:8080/",
          "height": 85
        }
      },
      "source": [
        "# A -- B -- C -- D\n",
        "test_case_1 = {\n",
        "    'A': [True, ['B']],\n",
        "    'B': [True, ['A', 'C']],\n",
        "    'C': [False, ['B', 'D']],\n",
        "    'D': [False, ['C']]\n",
        "}\n",
        "\n",
        "\n",
        "#     B    D    F\n",
        "#     |    |    |\n",
        "#A -- C -- E -- G\n",
        "test_case_2 = {\n",
        "    'A': [True, ['C']],\n",
        "    'B': [True, ['C']],\n",
        "    'C': [True, ['A', 'B', 'E']],\n",
        "    'D': [False, ['E']],\n",
        "    'E': [False, ['C', 'D', 'G']],\n",
        "    'F': [False, ['G']],\n",
        "    'G': [False, ['E', 'F']],\n",
        "}\n",
        "\n",
        "y = contagion_brd(test_case_2,-1, 0.34)\n",
        "print(y)\n",
        "yx = contagion_brd(test_case_2,-1, 0.3)\n",
        "print(yx)\n",
        "z = contagion_brd(test_case_1,-1, 0.55)\n",
        "print(z)\n",
        "z = contagion_brd(test_case_1,-1, 0.45)\n",
        "print(z)"
      ],
      "execution_count": 0,
      "outputs": [
        {
          "output_type": "stream",
          "text": [
            "(0, {'A': [True, ['C']], 'B': [True, ['C']], 'C': [True, ['A', 'B', 'E']], 'D': [False, ['E']], 'E': [False, ['C', 'D', 'G']], 'F': [False, ['G']], 'G': [False, ['E', 'F']]})\n",
            "(4, {'A': [True, ['C']], 'B': [True, ['C']], 'C': [True, ['A', 'B', 'E']], 'D': [True, ['E']], 'E': [True, ['C', 'D', 'G']], 'F': [True, ['G']], 'G': [True, ['E', 'F']]})\n",
            "(0, {'A': [True, ['B']], 'B': [True, ['A', 'C']], 'C': [False, ['B', 'D']], 'D': [False, ['C']]})\n",
            "(2, {'A': [True, ['B']], 'B': [True, ['A', 'C']], 'C': [True, ['B', 'D']], 'D': [True, ['C']]})\n"
          ],
          "name": "stdout"
        }
      ]
    },
    {
      "cell_type": "markdown",
      "metadata": {
        "id": "URzUyrYMB92Z",
        "colab_type": "text"
      },
      "source": [
        "#8B\n",
        "Run your algorithm several (100) times on a fairly small random set of early adopters (k = 10) with a low threshold (q = 0.1) on the Facebook data set. What happens? Is there a complete cascade? If not, how many nodes end up being “infected” on average?"
      ]
    },
    {
      "cell_type": "code",
      "metadata": {
        "id": "lMMI88QIGoK7",
        "colab_type": "code",
        "colab": {}
      },
      "source": [
        "def create_graph(fb_graph, S):\n",
        "  new_graph = dict()\n",
        "  \n",
        "  for edge in fb_graph:  \n",
        "    i = edge[0]\n",
        "    j = edge[1]\n",
        "    \n",
        "    if (i not in new_graph.keys()):\n",
        "      if (int(i) in S):\n",
        "        new_graph[i] = [True, []]\n",
        "      else:\n",
        "        new_graph[i] = [False, []]\n",
        "        \n",
        "    if (j not in new_graph.keys()):\n",
        "      if (int(j) in S):\n",
        "        new_graph[j] = [True, []]\n",
        "      else:\n",
        "        new_graph[j] = [False, []]\n",
        "        \n",
        "    new_graph[i][1] = new_graph[i][1] + [j]\n",
        "    new_graph[j][1] = new_graph[j][1] + [i]\n",
        "  \n",
        "  return new_graph"
      ],
      "execution_count": 0,
      "outputs": []
    },
    {
      "cell_type": "code",
      "metadata": {
        "id": "nt9r3sBtCDRa",
        "colab_type": "code",
        "outputId": "135a9d10-d055-4678-b88c-f6c3bab69ff0",
        "colab": {
          "base_uri": "https://localhost:8080/",
          "height": 231
        }
      },
      "source": [
        "data_path = 'facebook_combined.txt'\n",
        "\n",
        "with open(data_path) as f:\n",
        "  raw_data = f.read()\n",
        "  z = [s.strip().split(' ') for s in raw_data.splitlines()]\n",
        "\n",
        "num_influenced = list()\n",
        "for i in range(0, 100):\n",
        "  influenced, res_graph = contagion_brd(z, 10, 0.1)\n",
        "  num_influenced = num_influenced + [influenced + 10]"
      ],
      "execution_count": 0,
      "outputs": [
        {
          "output_type": "error",
          "ename": "FileNotFoundError",
          "evalue": "ignored",
          "traceback": [
            "\u001b[0;31m---------------------------------------------------------------------------\u001b[0m",
            "\u001b[0;31mFileNotFoundError\u001b[0m                         Traceback (most recent call last)",
            "\u001b[0;32m<ipython-input-6-f5df539ec109>\u001b[0m in \u001b[0;36m<module>\u001b[0;34m()\u001b[0m\n\u001b[1;32m      1\u001b[0m \u001b[0mdata_path\u001b[0m \u001b[0;34m=\u001b[0m \u001b[0;34m'facebook_combined.txt'\u001b[0m\u001b[0;34m\u001b[0m\u001b[0;34m\u001b[0m\u001b[0m\n\u001b[1;32m      2\u001b[0m \u001b[0;34m\u001b[0m\u001b[0m\n\u001b[0;32m----> 3\u001b[0;31m \u001b[0;32mwith\u001b[0m \u001b[0mopen\u001b[0m\u001b[0;34m(\u001b[0m\u001b[0mdata_path\u001b[0m\u001b[0;34m)\u001b[0m \u001b[0;32mas\u001b[0m \u001b[0mf\u001b[0m\u001b[0;34m:\u001b[0m\u001b[0;34m\u001b[0m\u001b[0;34m\u001b[0m\u001b[0m\n\u001b[0m\u001b[1;32m      4\u001b[0m   \u001b[0mraw_data\u001b[0m \u001b[0;34m=\u001b[0m \u001b[0mf\u001b[0m\u001b[0;34m.\u001b[0m\u001b[0mread\u001b[0m\u001b[0;34m(\u001b[0m\u001b[0;34m)\u001b[0m\u001b[0;34m\u001b[0m\u001b[0;34m\u001b[0m\u001b[0m\n\u001b[1;32m      5\u001b[0m   \u001b[0mz\u001b[0m \u001b[0;34m=\u001b[0m \u001b[0;34m[\u001b[0m\u001b[0ms\u001b[0m\u001b[0;34m.\u001b[0m\u001b[0mstrip\u001b[0m\u001b[0;34m(\u001b[0m\u001b[0;34m)\u001b[0m\u001b[0;34m.\u001b[0m\u001b[0msplit\u001b[0m\u001b[0;34m(\u001b[0m\u001b[0;34m' '\u001b[0m\u001b[0;34m)\u001b[0m \u001b[0;32mfor\u001b[0m \u001b[0ms\u001b[0m \u001b[0;32min\u001b[0m \u001b[0mraw_data\u001b[0m\u001b[0;34m.\u001b[0m\u001b[0msplitlines\u001b[0m\u001b[0;34m(\u001b[0m\u001b[0;34m)\u001b[0m\u001b[0;34m]\u001b[0m\u001b[0;34m\u001b[0m\u001b[0;34m\u001b[0m\u001b[0m\n",
            "\u001b[0;31mFileNotFoundError\u001b[0m: [Errno 2] No such file or directory: 'facebook_combined.txt'"
          ]
        }
      ]
    },
    {
      "cell_type": "code",
      "metadata": {
        "id": "MpM8q_R5jwfD",
        "colab_type": "code",
        "colab": {}
      },
      "source": [
        "print (\"average with q=.1 after 100 iterations is: \", sum(num_influenced)/len(num_influenced))\n",
        "for i, val in enumerate(num_influenced):\n",
        "  print(val, end=' ')\n",
        "  if (not i % 20): \n",
        "    print('')"
      ],
      "execution_count": 0,
      "outputs": []
    },
    {
      "cell_type": "markdown",
      "metadata": {
        "id": "09w_MytwevkM",
        "colab_type": "text"
      },
      "source": [
        "#8C\n",
        "Run your algorithm several (10) times with different values of q (try increments of 0.05 from 0 to 0.5), and with different values of k (try increments of 10 from 0 to 250). Observe and record the rates of “infection” under various conditions. What conditions on k and q are likely to produce a complete cascade in this particular graph, given your observations?"
      ]
    },
    {
      "cell_type": "code",
      "metadata": {
        "id": "pkxxP3I3e4d9",
        "colab_type": "code",
        "colab": {}
      },
      "source": [
        "diff_k_list = list(np.arange(0, 260, 10))\n",
        "\n",
        "for diff_q in np.arange(0, 0.55, 0.05):\n",
        "  print(\"Plots for q: {}\".format(diff_q))\n",
        "  num_influenced_list = []\n",
        "  \n",
        "  for diff_k in np.arange(0, 260, 10):\n",
        "    influenced = contagion_brd(z, diff_k, diff_q)[0]\n",
        "    num_influenced_list = num_influenced_list + [diff_k + influenced]\n",
        "  \n",
        "  plt.plot(diff_k_list, num_influenced_list)\n",
        "  plt.xlabel(\"Number of Early Adopters\")\n",
        "  plt.ylabel(\"Number influenced\")\n",
        "  plt.show()"
      ],
      "execution_count": 0,
      "outputs": []
    },
    {
      "cell_type": "markdown",
      "metadata": {
        "id": "fwa1uOjjrQi0",
        "colab_type": "text"
      },
      "source": [
        "#Bonus Question 2. (Optional, extra credit awarded depending on quality of solution.) \n",
        "\n",
        "Design an algorithm that, given a graph and a threshold q, finds (an approximation of) the smallest possible set of early adopters that will cause a complete cascade. Try running it on the Facebook data with different values of q and seeing how large a set we need."
      ]
    },
    {
      "cell_type": "markdown",
      "metadata": {
        "id": "0_doVl7vdnQh",
        "colab_type": "text"
      },
      "source": [
        "#9a\n",
        "First, implement an algorithm that, given a directed graph, a source s, a sink t, and edge capacities over each edge in E, computes the maximum flow from s to t (you must implement this algorithm yourself). Turn in your code and verify that your algorithm works on a few simple test cases. In particular, test your algorithm on the graphs in Figures 6.1 and 6.3 from the lecture notes and submit the output."
      ]
    },
    {
      "cell_type": "code",
      "metadata": {
        "id": "gmc7O6VHkjFS",
        "colab_type": "code",
        "colab": {}
      },
      "source": [
        "#Implementation courtesy of the link below\n",
        "#https://medium.com/100-days-of-algorithms/day-49-ford-fulkerson-e70045dafd8b\n",
        "def ford_fulkerson(graph, source, sink, debug=None):\n",
        "    flow, path = 0, True\n",
        "    \n",
        "    while path:\n",
        "        path, reserve = depth_first_search(graph, source, sink)\n",
        "        flow += reserve\n",
        "\n",
        "        for v, u in zip(path, path[1:]):\n",
        "            if graph.has_edge(v, u):\n",
        "                graph[v][u]['flow'] += reserve\n",
        "            else:\n",
        "                graph[u][v]['flow'] -= reserve\n",
        "    return flow"
      ],
      "execution_count": 0,
      "outputs": []
    },
    {
      "cell_type": "code",
      "metadata": {
        "id": "ukWAhxiPdrt1",
        "colab_type": "code",
        "colab": {}
      },
      "source": [
        "#def max_flow(G, s, t, c):\n",
        "def depth_first_search(graph, source, sink):\n",
        "    undirected = graph.to_undirected()\n",
        "    explored = {source}\n",
        "    stack = [(source, 0, dict(undirected[source]))]\n",
        "    \n",
        "    while stack:\n",
        "        v, _, neighbours = stack[-1]\n",
        "        if v == sink:\n",
        "            break\n",
        "        \n",
        "        while neighbours:\n",
        "            u, e = neighbours.popitem()\n",
        "            if u not in explored:\n",
        "                break\n",
        "        else:\n",
        "            stack.pop()\n",
        "            continue\n",
        "        \n",
        "        in_direction = graph.has_edge(v, u)\n",
        "        capacity = e['capacity']\n",
        "        flow = e['flow']\n",
        "        neighbours = dict(undirected[u])\n",
        "\n",
        "        if in_direction and flow < capacity:\n",
        "            stack.append((u, capacity - flow, neighbours))\n",
        "            explored.add(u)\n",
        "        elif not in_direction and flow:\n",
        "            stack.append((u, flow, neighbours))\n",
        "            explored.add(u)\n",
        "\n",
        "    reserve = min((f for _, f, _ in stack[1:]), default=0)\n",
        "    path = [v for v, _, _ in stack]\n",
        "    \n",
        "    return path, reserve"
      ],
      "execution_count": 0,
      "outputs": []
    },
    {
      "cell_type": "code",
      "metadata": {
        "id": "Tg_IEYYimynk",
        "colab_type": "code",
        "colab": {}
      },
      "source": [
        "def flow_debug(graph, path, reserve, flow):\n",
        "    print('flow increased by', reserve, 'at path', path, '; current flow', flow)"
      ],
      "execution_count": 0,
      "outputs": []
    },
    {
      "cell_type": "code",
      "metadata": {
        "id": "_8RowG4yuMK1",
        "colab_type": "code",
        "colab": {}
      },
      "source": [
        "def draw_graph(layout, graph):\n",
        "    plt.figure(figsize=(12, 4))\n",
        "    plt.axis('off')\n",
        "\n",
        "    nx.draw_networkx_nodes(graph, layout, node_color='steelblue', node_size=600)\n",
        "    nx.draw_networkx_edges(graph, layout, edge_color='gray')\n",
        "    nx.draw_networkx_labels(graph, layout, font_color='white')\n",
        "\n",
        "    for u, v, e in graph.edges(data=True):\n",
        "        label = '{}/{}'.format(e['flow'], e['capacity'])\n",
        "        color = 'green' if e['flow'] < e['capacity'] else 'red'\n",
        "        x = layout[u][0] * .6 + layout[v][0] * .4\n",
        "        y = layout[u][1] * .6 + layout[v][1] * .4\n",
        "        t = plt.text(x, y, label, size=16, color=color, \n",
        "                     horizontalalignment='center', verticalalignment='center')\n",
        "        \n",
        "    plt.show()"
      ],
      "execution_count": 0,
      "outputs": []
    },
    {
      "cell_type": "code",
      "metadata": {
        "id": "t0WnBAInld4_",
        "colab_type": "code",
        "colab": {}
      },
      "source": [
        "graph = nx.DiGraph()\n",
        "graph.add_nodes_from('ABCDEFGH')\n",
        "graph.add_edges_from([\n",
        "    ('A', 'B', {'capacity': 4, 'flow': 0}),\n",
        "    ('A', 'C', {'capacity': 5, 'flow': 0}),\n",
        "    ('A', 'D', {'capacity': 7, 'flow': 0}),\n",
        "    ('B', 'E', {'capacity': 7, 'flow': 0}),\n",
        "    ('C', 'E', {'capacity': 6, 'flow': 0}),\n",
        "    ('C', 'F', {'capacity': 4, 'flow': 0}),\n",
        "    ('C', 'G', {'capacity': 1, 'flow': 0}),\n",
        "    ('D', 'F', {'capacity': 8, 'flow': 0}),\n",
        "    ('D', 'G', {'capacity': 1, 'flow': 0}),\n",
        "    ('E', 'H', {'capacity': 7, 'flow': 0}),\n",
        "    ('F', 'H', {'capacity': 6, 'flow': 0}),\n",
        "    ('G', 'H', {'capacity': 4, 'flow': 0}),\n",
        "])\n",
        "\n",
        "layout = {\n",
        "    'A': [0, 1], 'B': [1, 2], 'C': [1, 1], 'D': [1, 0],\n",
        "    'E': [2, 2], 'F': [2, 1], 'G': [2, 0], 'H': [3, 1],\n",
        "}"
      ],
      "execution_count": 0,
      "outputs": []
    },
    {
      "cell_type": "code",
      "metadata": {
        "id": "LN34pBwsuwXS",
        "colab_type": "code",
        "outputId": "331dd9d0-bb2c-4340-e1af-aef563c80201",
        "colab": {
          "base_uri": "https://localhost:8080/",
          "height": 547
        }
      },
      "source": [
        "print(\"Original Graph\")\n",
        "draw_graph(layout, graph)\n",
        "\n",
        "print (graph.edges)\n",
        "\n",
        "max_test_graph = ford_fulkerson(graph, 'A', 'H', flow_debug)\n",
        "print(\"Max Flow Graph\")\n",
        "draw_graph(layout, graph)\n",
        "print(\"Max Flow\", max_test_graph)"
      ],
      "execution_count": 0,
      "outputs": [
        {
          "output_type": "stream",
          "text": [
            "Original Graph\n"
          ],
          "name": "stdout"
        },
        {
          "output_type": "display_data",
          "data": {
            "image/png": "[encoded data removed]",
            "text/plain": [
              "<Figure size 864x288 with 1 Axes>"
            ]
          },
          "metadata": {
            "tags": []
          }
        },
        {
          "output_type": "stream",
          "text": [
            "[('A', 'B'), ('A', 'C'), ('A', 'D'), ('B', 'E'), ('C', 'E'), ('C', 'F'), ('C', 'G'), ('D', 'F'), ('D', 'G'), ('E', 'H'), ('F', 'H'), ('G', 'H')]\n",
            "Max Flow Graph\n"
          ],
          "name": "stdout"
        },
        {
          "output_type": "display_data",
          "data": {
            "image/png": "[encoded data removed]",
            "text/plain": [
              "<Figure size 864x288 with 1 Axes>"
            ]
          },
          "metadata": {
            "tags": []
          }
        },
        {
          "output_type": "stream",
          "text": [
            "Max Flow 15\n"
          ],
          "name": "stdout"
        }
      ]
    },
    {
      "cell_type": "code",
      "metadata": {
        "id": "kSpLkmh_sldC",
        "colab_type": "code",
        "colab": {}
      },
      "source": [
        "graph_61 = nx.DiGraph()\n",
        "graph_61.add_nodes_from('SABT')\n",
        "graph_61.add_edges_from([\n",
        "    ('S', 'A', {'capacity': 1, 'flow': 0}),\n",
        "    ('S', 'B', {'capacity': 3, 'flow': 0}),\n",
        "    ('A', 'B', {'capacity': 2, 'flow': 0}),\n",
        "    ('A', 'T', {'capacity': 1, 'flow': 0}),\n",
        "    ('B', 'T', {'capacity': 1, 'flow': 0})\n",
        "])\n",
        "\n",
        "layout2 = {\n",
        "    'S': [0, 1], 'A': [1, 2], 'B': [1, 0], 'T': [2, 1]\n",
        "}"
      ],
      "execution_count": 0,
      "outputs": []
    },
    {
      "cell_type": "code",
      "metadata": {
        "id": "98P2JvEXvhQr",
        "colab_type": "code",
        "outputId": "fb6a73b1-d34d-410e-c1cb-2047270ecefa",
        "colab": {
          "base_uri": "https://localhost:8080/",
          "height": 530
        }
      },
      "source": [
        "print(\"Original Graph\")\n",
        "draw_graph(layout2, graph_61)\n",
        "\n",
        "max_flow_61 = ford_fulkerson(graph_61, 'S', 'T', flow_debug)\n",
        "print(\"Max Flow Graph\")\n",
        "draw_graph(layout2, graph_61)\n",
        "print(\"Max Flow\", max_flow_61)"
      ],
      "execution_count": 0,
      "outputs": [
        {
          "output_type": "stream",
          "text": [
            "Original Graph\n"
          ],
          "name": "stdout"
        },
        {
          "output_type": "display_data",
          "data": {
            "image/png": "[encoded data removed]",
            "text/plain": [
              "<Figure size 864x288 with 1 Axes>"
            ]
          },
          "metadata": {
            "tags": []
          }
        },
        {
          "output_type": "stream",
          "text": [
            "Max Flow Graph\n"
          ],
          "name": "stdout"
        },
        {
          "output_type": "display_data",
          "data": {
            "image/png": "[encoded data removed]",
            "text/plain": [
              "<Figure size 864x288 with 1 Axes>"
            ]
          },
          "metadata": {
            "tags": []
          }
        },
        {
          "output_type": "stream",
          "text": [
            "Max Flow 2\n"
          ],
          "name": "stdout"
        }
      ]
    },
    {
      "cell_type": "code",
      "metadata": {
        "id": "2Qom-f8Btnn0",
        "colab_type": "code",
        "colab": {}
      },
      "source": [
        "graph_63 = nx.DiGraph()\n",
        "graph_63.add_nodes_from('SABCDEFGHIJT')\n",
        "graph_63.add_edges_from([\n",
        "    ('S', 'A', {'capacity': 1, 'flow': 0}),\n",
        "    ('S', 'B', {'capacity': 1, 'flow': 0}),\n",
        "    ('S', 'C', {'capacity': 1, 'flow': 0}),\n",
        "    ('S', 'D', {'capacity': 1, 'flow': 0}),\n",
        "    ('S', 'E', {'capacity': 1, 'flow': 0}),\n",
        "    ('F', 'T', {'capacity': 1, 'flow': 0}),\n",
        "    ('G', 'T', {'capacity': 1, 'flow': 0}),\n",
        "    ('H', 'T', {'capacity': 1, 'flow': 0}),\n",
        "    ('I', 'T', {'capacity': 1, 'flow': 0}),\n",
        "    ('J', 'T', {'capacity': 1, 'flow': 0}),\n",
        "    ('A', 'G', {'capacity': 1, 'flow': 0}),\n",
        "    ('B', 'F', {'capacity': 1, 'flow': 0}),\n",
        "    ('B', 'G', {'capacity': 1, 'flow': 0}),\n",
        "    ('C', 'F', {'capacity': 1, 'flow': 0}),\n",
        "    ('D', 'H', {'capacity': 1, 'flow': 0}),\n",
        "    ('D', 'J', {'capacity': 1, 'flow': 0}),\n",
        "    ('E', 'H', {'capacity': 1, 'flow': 0}),\n",
        "    ('E', 'I', {'capacity': 1, 'flow': 0}),\n",
        "])\n",
        "\n",
        "layout3 = {\n",
        "    'S': [0, 10], \n",
        "    'A': [1, 20], 'B': [1, 15], 'C': [1, 10], 'D': [1, 5], 'E': [1, 0], \n",
        "    'F': [2, 20], 'G': [2, 15], 'H': [2, 10], 'I': [2, 5], 'J': [2, 0], \n",
        "    'T': [3, 10]\n",
        "}"
      ],
      "execution_count": 0,
      "outputs": []
    },
    {
      "cell_type": "code",
      "metadata": {
        "id": "qiwkoLICu9V8",
        "colab_type": "code",
        "colab": {}
      },
      "source": [
        "print(\"Original Graph\")\n",
        "draw_graph(layout3, graph_63)\n",
        "\n",
        "max_flow_63 = ford_fulkerson(graph_63, 'S', 'T', flow_debug)\n",
        "print(\"Max Flow Graph\")\n",
        "draw_graph(layout3, graph_63)\n",
        "print(\"Max Flow\", max_flow_63)"
      ],
      "execution_count": 0,
      "outputs": []
    },
    {
      "cell_type": "markdown",
      "metadata": {
        "id": "rOcPelJ0mY7y",
        "colab_type": "text"
      },
      "source": [
        "#9b\n",
        "Given a set of n drivers, m riders, and sets of possible riders that each driver can pick up,\n",
        "\n",
        "i. explain how we can use this maximum-flow algorithm to determine the the maximum number of matches, and\n",
        "\n",
        "ii. explain how we can additionally extend this to actually find the matchings."
      ]
    },
    {
      "cell_type": "markdown",
      "metadata": {
        "id": "rxd5MH9PmjgI",
        "colab_type": "text"
      },
      "source": [
        "i. We can use the maximum flow algorithm to determine the maximum number of matches by running max flow on a graph where there are edges between a source $S$ and all the drivers with a weight of 1, edges between the drivers and riders with a weight of 1, and edges between the riders and a sink $T$ with a weight of 1, and seeing how many edges between drivers and riders are saturated. The number of saturated edges is equivalent to the maximum number of matches.\n",
        "\n",
        "ii. After running the max flow algorithm, we can trace/follow the backward edges in the residual graph from $T$ to $S$ to actually find the matchings."
      ]
    },
    {
      "cell_type": "markdown",
      "metadata": {
        "id": "9DUpbPvls8Up",
        "colab_type": "text"
      },
      "source": [
        "#9c\n",
        "Implement a maximal matching algorithm for Uber drivers and riders. Specifically, given n drivers with constraints specified on m riders, computed the assignments of drivers to riders. Test your algorithm on at least 2 examples (with at least 5 riders and drivers each). Explain your examples and your results."
      ]
    },
    {
      "cell_type": "code",
      "metadata": {
        "id": "r3NejIPSs9zz",
        "colab_type": "code",
        "colab": {}
      },
      "source": [
        "#n = 7,\n",
        "#m = 5\n",
        "#https://stackoverflow.com/questions/35472402/how-do-display-bipartite-graphs-with-python-networkx-package\n",
        "B = nx.Graph()\n",
        "B.add_nodes_from('SABCDEabcdefgT')\n",
        "B.add_edges_from([\n",
        "    ('A', 'a', {'capacity': 1, 'flow': 0}),\n",
        "    ('B', 'b', {'capacity': 1, 'flow': 0}),\n",
        "    ('B', 'c', {'capacity': 1, 'flow': 0}),\n",
        "    ('B', 'e', {'capacity': 1, 'flow': 0}),\n",
        "    \n",
        "    ('S', 'A', {'capacity': 1, 'flow': 0}),\n",
        "    ('S', 'B', {'capacity': 1, 'flow': 0}),\n",
        "    ('S', 'C', {'capacity': 1, 'flow': 0}),\n",
        "    ('S', 'D', {'capacity': 1, 'flow': 0}),\n",
        "    ('S', 'E', {'capacity': 1, 'flow': 0}),\n",
        "    \n",
        "    ('a', 'T', {'capacity': 1, 'flow': 0}),\n",
        "    ('b', 'T', {'capacity': 1, 'flow': 0}),\n",
        "    ('c', 'T', {'capacity': 1, 'flow': 0}),\n",
        "    ('d', 'T', {'capacity': 1, 'flow': 0}),\n",
        "    ('e', 'T', {'capacity': 1, 'flow': 0}),\n",
        "    ('f', 'T', {'capacity': 1, 'flow': 0}),\n",
        "    ('g', 'T', {'capacity': 1, 'flow': 0}),\n",
        "    \n",
        "    ('A', 'a', {'capacity': 1, 'flow': 0}),\n",
        "    ('B', 'b', {'capacity': 1, 'flow': 0}),\n",
        "    ('B', 'c', {'capacity': 1, 'flow': 0}),\n",
        "    ('B', 'e', {'capacity': 1, 'flow': 0}),\n",
        "    ('C', 'c', {'capacity': 1, 'flow': 0}),\n",
        "    ('D', 'd', {'capacity': 1, 'flow': 0}),\n",
        "    ('D', 'b', {'capacity': 1, 'flow': 0}),\n",
        "    ('D', 'c', {'capacity': 1, 'flow': 0}),\n",
        "    ('D', 'e', {'capacity': 1, 'flow': 0}),\n",
        "    ('E', 'e', {'capacity': 1, 'flow': 0}),\n",
        "    ('A', 'f', {'capacity': 1, 'flow': 0}),\n",
        "    ('B', 'g', {'capacity': 1, 'flow': 0}),\n",
        "])\n",
        "\n",
        "layout4 = {\n",
        "    'S': [-1, 60], 'A': [1, 150], 'B': [1, 120], 'C': [1, 90], 'D': [1, 60], 'E': [1, 30],\n",
        "    'a': [2, 210], 'b': [2, 180], 'c': [2, 150], 'd': [2, 120], 'e': [2, 90],\n",
        "    'f': [2, 60], 'g': [2, 30], 'T': [3, 60]\n",
        "}"
      ],
      "execution_count": 0,
      "outputs": []
    },
    {
      "cell_type": "code",
      "metadata": {
        "id": "vVpGVgXBVCV0",
        "colab_type": "code",
        "colab": {}
      },
      "source": [
        "print(\"Original Graph\")\n",
        "draw_graph(layout4, B)\n",
        "\n",
        "max_flow_B = ford_fulkerson(B, 'S', 'T', flow_debug)\n",
        "print(\"Max Flow Graph\")\n",
        "draw_graph(layout4, B)\n",
        "print(\"Max Flow\", max_flow_B)"
      ],
      "execution_count": 0,
      "outputs": []
    },
    {
      "cell_type": "code",
      "metadata": {
        "id": "eBYcpV8BUPq5",
        "colab_type": "code",
        "colab": {}
      },
      "source": [
        "#n = 6,\n",
        "#m = 6\n",
        "\n",
        "C = nx.Graph()\n",
        "C.add_nodes_from('SABCDEFabcdefT')\n",
        "C.add_edges_from([\n",
        "    ('A', 'a', {'capacity': 1, 'flow': 0}),\n",
        "    ('B', 'b', {'capacity': 1, 'flow': 0}),\n",
        "    ('B', 'c', {'capacity': 1, 'flow': 0}),\n",
        "    ('B', 'e', {'capacity': 1, 'flow': 0}),\n",
        "    \n",
        "    ('S', 'A', {'capacity': 1, 'flow': 0}),\n",
        "    ('S', 'B', {'capacity': 1, 'flow': 0}),\n",
        "    ('S', 'C', {'capacity': 1, 'flow': 0}),\n",
        "    ('S', 'D', {'capacity': 1, 'flow': 0}),\n",
        "    ('S', 'E', {'capacity': 1, 'flow': 0}),\n",
        "    ('S', 'F', {'capacity': 1, 'flow': 0}),\n",
        "    \n",
        "    ('a', 'T', {'capacity': 1, 'flow': 0}),\n",
        "    ('b', 'T', {'capacity': 1, 'flow': 0}),\n",
        "    ('c', 'T', {'capacity': 1, 'flow': 0}),\n",
        "    ('d', 'T', {'capacity': 1, 'flow': 0}),\n",
        "    ('e', 'T', {'capacity': 1, 'flow': 0}),\n",
        "    ('f', 'T', {'capacity': 1, 'flow': 0}),\n",
        "    \n",
        "    ('A', 'a', {'capacity': 1, 'flow': 0}),\n",
        "    ('B', 'b', {'capacity': 1, 'flow': 0}),\n",
        "    ('B', 'c', {'capacity': 1, 'flow': 0}),\n",
        "    ('B', 'e', {'capacity': 1, 'flow': 0}),\n",
        "    ('C', 'c', {'capacity': 1, 'flow': 0}),\n",
        "    ('D', 'd', {'capacity': 1, 'flow': 0}),\n",
        "    ('D', 'b', {'capacity': 1, 'flow': 0}),\n",
        "    ('D', 'c', {'capacity': 1, 'flow': 0}),\n",
        "    ('D', 'e', {'capacity': 1, 'flow': 0}),\n",
        "    ('E', 'e', {'capacity': 1, 'flow': 0}),\n",
        "    ('F', 'f', {'capacity': 1, 'flow': 0}),\n",
        "    ('A', 'f', {'capacity': 1, 'flow': 0}),\n",
        "])\n",
        "\n",
        "layout5 = {\n",
        "    'S': [-1, 60], 'A': [1, 150], 'B': [1, 120], 'C': [1, 90], 'D': [1, 60], \n",
        "    'E': [1, 30], 'F': [1, 0],\n",
        "    'a': [2, 210], 'b': [2, 180], 'c': [2, 150], 'd': [2, 120], 'e': [2, 90], \n",
        "    'f': [2, 60], 'T': [3, 60]\n",
        "}"
      ],
      "execution_count": 0,
      "outputs": []
    },
    {
      "cell_type": "code",
      "metadata": {
        "id": "FM5VBzUDVHto",
        "colab_type": "code",
        "colab": {}
      },
      "source": [
        "print(\"Original Graph\")\n",
        "draw_graph(layout5, C)\n",
        "\n",
        "max_flow_C = ford_fulkerson(C, 'S', 'T', flow_debug)\n",
        "print(\"Max Flow Graph\")\n",
        "draw_graph(layout5, C)\n",
        "print(\"Max Flow\", max_flow_C)"
      ],
      "execution_count": 0,
      "outputs": []
    },
    {
      "cell_type": "markdown",
      "metadata": {
        "id": "XXm8DTy8zmvJ",
        "colab_type": "text"
      },
      "source": [
        "#9d\n",
        "Now consider the case where there are n drivers and n riders, and the drivers each driver is connected to each rider with probability p. Fix n = 1000 (or maybe 100 if that’s too much), and estimate the probability that all n riders will get matched for varying values of p. Plot your results."
      ]
    },
    {
      "cell_type": "code",
      "metadata": {
        "id": "MtY2VWzIzqe9",
        "colab_type": "code",
        "colab": {}
      },
      "source": [
        "diff_p_list = list(np.arange(0, 1.10, 0.10))\n",
        "prob_all_riders_matched = list()\n",
        "\n",
        "for p in np.arange(0, 1.10, 0.10):\n",
        "  brg = bipartite.random_graph(100, 100, p)\n",
        "  RB_top = set(n for n,d in brg.nodes(data=True) if d['bipartite']==0)\n",
        "  RB_bottom = set(brg) - RB_top\n",
        "  \n",
        "  brg.add_nodes_from('ST'+str(RB_top)+str(RB_bottom))\n",
        "\n",
        "  for (u, v) in brg.edges():\n",
        "    brg.add_edges_from([(u, v, {'capacity': 1, 'flow': 0})])\n",
        "\n",
        "  for elem in RB_top:\n",
        "    brg.add_edges_from([('S', elem, {'capacity': 1, 'flow': 0})])\n",
        "\n",
        "  for elem in RB_bottom:\n",
        "    brg.add_edges_from([(elem, 'T', {'capacity': 1, 'flow': 0})])\n",
        "    \n",
        "  max_flow = ford_fulkerson(brg, 'S', 'T', flow_debug)\n",
        "  prob_all_riders_matched = prob_all_riders_matched + [max_flow / 100]\n",
        "  \n",
        "plt.plot(diff_p_list, prob_all_riders_matched)\n",
        "plt.xlabel(\"Probability\")\n",
        "plt.ylabel(\"Prob all riders matched\")\n",
        "plt.show()"
      ],
      "execution_count": 0,
      "outputs": []
    }
  ]
}